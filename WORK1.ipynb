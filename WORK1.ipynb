{
 "cells": [
  {
   "cell_type": "markdown",
   "metadata": {},
   "source": [
    "## 基于用户的协同过滤算法,使用 NumPy 实现基于用户的协同过滤算法，在 MovieLens 数据集上进行测试，并计算准确率、召回率、覆盖率、流行度等指标。"
   ]
  },
  {
   "cell_type": "markdown",
   "metadata": {},
   "source": [
    "##  "
   ]
  },
  {
   "cell_type": "code",
   "execution_count": 6,
   "metadata": {
    "collapsed": true
   },
   "outputs": [],
   "source": [
    "from math import sqrt  \n",
    "\n",
    "def loadData():  \n",
    "    trainSet = {}  \n",
    "    testSet = {}\n",
    "    movieUser = {}\n",
    "    u2u = {}  \n",
    "    TrainFile = 'ml-100k/u1.base'\n",
    "    TestFile = 'ml-100k/u1.test'\n",
    "    #加载训练集\n",
    "    for line in open(TrainFile):  \n",
    "        (userId, itemId, rating, timestamp) = line.strip().split('\\t')     \n",
    "        trainSet.setdefault(userId,{})  \n",
    "        trainSet[userId].setdefault(itemId,float(rating))  \n",
    "        movieUser.setdefault(itemId,[])  \n",
    "        movieUser[itemId].append(userId.strip())\n",
    "        \n",
    "    #加载测试集  \n",
    "    for line in open(TestFile):   \n",
    "        (userId, itemId, rating, timestamp) = line.strip().split('\\t')     \n",
    "        testSet.setdefault(userId,{})  \n",
    "        testSet[userId].setdefault(itemId,float(rating))  \n",
    "  \n",
    "    #生成用户用户共有电影矩阵  \n",
    "    for m in movieUser.keys():  \n",
    "        for u in movieUser[m]:  \n",
    "            u2u.setdefault(u,{})  \n",
    "            for n in movieUser[m]:  \n",
    "                if u!=n:  \n",
    "                    u2u[u].setdefault(n,[])  \n",
    "                    u2u[u][n].append(m)  \n",
    "    return trainSet,testSet,u2u  \n",
    "        \n",
    "# 计算一个用户的平均评分    \n",
    "def getAverageRating(user):    \n",
    "    average = (sum(trainSet[user].values())*1.0) / len(trainSet[user].keys())    \n",
    "    return average  \n",
    "  \n",
    "#计算用户相似度    \n",
    "def getUserSim(u2u,trainSet):  \n",
    "    userSim = {}  \n",
    "    # 计算用户的用户相似度    \n",
    "    for u in u2u.keys(): #对每个用户u  \n",
    "        userSim.setdefault(u,{})  #将用户u加入userSim中设为key，该用户对应一个字典  \n",
    "        average_u_rate = getAverageRating(u)  #获取用户u对电影的平均评分  \n",
    "        for n in u2u[u].keys():  #对与用户u相关的每个用户n               \n",
    "            userSim[u].setdefault(n,0)  #将用户n加入用户u的字典中  \n",
    "  \n",
    "            average_n_rate = getAverageRating(n)  #获取用户n对电影的平均评分  \n",
    "                \n",
    "            part1 = 0\n",
    "            part2 = 0\n",
    "            part3 = 0\n",
    "            #对用户u和用户n的共有的每个电影\n",
    "            for m in u2u[u][n]:    \n",
    "                part1 += (trainSet[u][m]-average_u_rate)*(trainSet[n][m]-average_n_rate)*1.0    \n",
    "                part2 += pow(trainSet[u][m]-average_u_rate, 2)*1.0    \n",
    "                part3 += pow(trainSet[n][m]-average_n_rate, 2)*1.0    \n",
    "                    \n",
    "            part2 = sqrt(part2)    \n",
    "            part3 = sqrt(part3)    \n",
    "            if part2 == 0 or part3 == 0:#若分母为0，相似度为0  \n",
    "                userSim[u][n] = 0  \n",
    "            else:  \n",
    "                userSim[u][n] = part1 / (part2 * part3)  \n",
    "    return userSim  \n",
    "    \n",
    "# 寻找用户最近邻并生成推荐结果  \n",
    "def getRecommendations(N,trainSet,userSim):  \n",
    "    pred = {}  \n",
    "    for user in trainSet.keys():    #对每个用户  \n",
    "        pred.setdefault(user,{})    #生成预测空列表  \n",
    "        interacted_items = trainSet[user].keys() #获取该用户评过分的电影    \n",
    "        average_u_rate = getAverageRating(user)  #获取该用户的评分平均分  \n",
    "        userSimSum = 0  \n",
    "        simUser = sorted(userSim[user].items(),key = lambda x : x[1],reverse = True)[0:N]  \n",
    "        for n, sim in simUser:    \n",
    "            average_n_rate = getAverageRating(n)  \n",
    "            userSimSum += sim   #对该用户近邻用户相似度求和  \n",
    "            for m, nrating in trainSet[n].items():    \n",
    "                if m in interacted_items:    \n",
    "                    continue    \n",
    "                else:  \n",
    "                    pred[user].setdefault(m,0)  \n",
    "                    pred[user][m] += (sim * (nrating - average_n_rate))  \n",
    "        for m in pred[user].keys():    \n",
    "                pred[user][m] = average_u_rate + (pred[user][m]*1.0) / userSimSum  \n",
    "    return pred  \n",
    "  \n",
    "#计算预测分析准确度  \n",
    "def getMAE(testSet,pred):  \n",
    "    MAE = 0  \n",
    "    rSum = 0  \n",
    "    setSum = 0  \n",
    "  \n",
    "    for user in pred.keys():\n",
    "        for movie, rating in pred[user].items():\n",
    "            if user in testSet.keys() and movie in testSet[user].keys() :\n",
    "                setSum = setSum + 1 \n",
    "                rSum = rSum + abs(testSet[user][movie]-rating)\n",
    "    MAE = rSum / setSum  \n",
    "    return MAE  \n",
    "  "
   ]
  },
  {
   "cell_type": "code",
   "execution_count": 14,
   "metadata": {},
   "outputs": [
    {
     "name": "stdout",
     "output_type": "stream",
     "text": [
      "Loading Data..\n",
      "Computing Similarity between users\n",
      "对不同的近邻数获得推荐\n",
      "N= 10 Prediction accuracy MAE=0.855821\n",
      "N= 20 Prediction accuracy MAE=0.857916\n",
      "N= 30 Prediction accuracy MAE=0.858719\n",
      "N= 40 Prediction accuracy MAE=0.849656\n",
      "N= 50 Prediction accuracy MAE=0.844740\n",
      "N= 60 Prediction accuracy MAE=0.840211\n",
      "N= 70 Prediction accuracy MAE=0.836142\n",
      "N= 80 Prediction accuracy MAE=0.833538\n",
      "N= 90 Prediction accuracy MAE=0.833280\n",
      "N= 100 Prediction accuracy MAE=0.831454\n"
     ]
    }
   ],
   "source": [
    "if __name__ == '__main__':  \n",
    "    print ('Loading Data..'  )\n",
    "    trainSet,testSet,u2u = loadData()  \n",
    "    print ('Computing Similarity between users'  )\n",
    "    userSim = getUserSim(u2u,trainSet)  \n",
    "    for N in (i * 10 for i in range(1,11)):\n",
    "        pred = getRecommendations(N,trainSet,userSim)\n",
    "        MAE = getMAE(testSet,pred)  #计算MAE  \n",
    "        print ('N= %d Prediction accuracy MAE=%f'%(N,MAE))  "
   ]
  },
  {
   "cell_type": "code",
   "execution_count": null,
   "metadata": {
    "collapsed": true
   },
   "outputs": [],
   "source": []
  }
 ],
 "metadata": {
  "kernelspec": {
   "display_name": "Python 3",
   "language": "python",
   "name": "python3"
  },
  "language_info": {
   "codemirror_mode": {
    "name": "ipython",
    "version": 3
   },
   "file_extension": ".py",
   "mimetype": "text/x-python",
   "name": "python",
   "nbconvert_exporter": "python",
   "pygments_lexer": "ipython3",
   "version": "3.6.4"
  }
 },
 "nbformat": 4,
 "nbformat_minor": 2
}
