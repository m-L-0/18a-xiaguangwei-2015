{
 "cells": [
  {
   "cell_type": "code",
   "execution_count": 1,
   "metadata": {
    "collapsed": true
   },
   "outputs": [],
   "source": [
    "import numpy as np\n",
    "import pandas as pd"
   ]
  },
  {
   "cell_type": "code",
   "execution_count": 2,
   "metadata": {
    "collapsed": true
   },
   "outputs": [],
   "source": [
    "def sgd(data_matrix, k, alpha, lam, max_cycles):\n",
    "    \"\"\"使用梯度下降法进行矩阵分解。\n",
    "    Args:\n",
    "    - data_matrix: mat, 用户物品矩阵\n",
    "    - k: int, 分解矩阵的参数\n",
    "    - alpha: float, 学习率\n",
    "    - lam: float, 正则化参数\n",
    "    - max_cycles: int, 最大迭代次数\n",
    "    Returns:\n",
    "    p,q: mat, 分解后的矩阵\n",
    "    \"\"\"\n",
    "    m, n = np.shape(data_matrix)\n",
    "    # initiate p & q\n",
    "    p = np.mat(np.random.random((m, k)))\n",
    "    q = np.mat(np.random.random((k, n)))\n",
    "\n",
    "    # start training\n",
    "    for step in range(max_cycles):\n",
    "        for i in range(m):\n",
    "            for j in range(n):\n",
    "                if data_matrix[i, j] > 0:\n",
    "                    error = data_matrix[i, j]\n",
    "                    for r in range(k):\n",
    "                        error = error - p[i, r] * q[r, j]\n",
    "                    for r in range(k):\n",
    "                        p[i, r] = p[i, r] + alpha * (2 * error * q[r, j] - lam * p[i, r])\n",
    "                        q[r, j] = q[r, j] + alpha * (2 * error * p[i, r] - lam * q[r, j])\n",
    "\n",
    "        loss = 0.0\n",
    "        for i in range(m):\n",
    "            for j in range(n):\n",
    "                if data_matrix[i, j] > 0:\n",
    "                    error = 0.0\n",
    "                    for r in range(k):\n",
    "                        error = error + p[i, r] * q[r, j]\n",
    "                    # calculate loss function\n",
    "                    loss = (data_matrix[i, j] - error) * (data_matrix[i, j] - error)\n",
    "                    for r in range(k):\n",
    "                        loss = loss + lam * (p[i, r] * p[i, r] + q[r, j] * q[r, j]) / 2\n",
    "\n",
    "        if loss < 0.001:\n",
    "            break\n",
    "        if step % 100 == 0:\n",
    "            print(\"\\titer: %d, loss: %f\" % (step, loss))\n",
    "    return p, q"
   ]
  },
  {
   "cell_type": "code",
   "execution_count": null,
   "metadata": {
    "collapsed": true
   },
   "outputs": [],
   "source": [
    "def prediction(data_matrix, p, q, user):\n",
    "    \"\"\"为用户未互动的项打分\n",
    "    Args:\n",
    "    - data_matrix: mat, 原始用户物品矩阵\n",
    "    - p: mat, 分解后的矩阵p\n",
    "    - q: mat, 分解后的矩阵q\n",
    "    - user: int, 用户的id\n",
    "\n",
    "    Returns:\n",
    "    - predict: list, 推荐列表\n",
    "    \"\"\"\n",
    "    n = np.shape(data_matrix)[1]\n",
    "    predict = {}\n",
    "    for j in range(n):\n",
    "        if data_matrix[user, j] == 0:\n",
    "            predict[j] = (p[user,] * q[:, j])[0, 0]\n",
    "\n",
    "    # 按照打分从大到小排序\n",
    "    return sorted(predict.items(), key=lambda d: d[1], reverse=True)[:50]"
   ]
  },
  {
   "cell_type": "code",
   "execution_count": null,
   "metadata": {
    "collapsed": true
   },
   "outputs": [],
   "source": [
    "r_cols = ['user_id', 'movie_id', 'rating', 'unix_timestamp']\n",
    "train = pd.read_csv('./ml-100k/u1.base', sep='\\t', names=r_cols, encoding='latin-1')\n",
    "test = pd.read_csv('./ml-100k/u1.test', sep='\\t', names=r_cols, encoding='latin-1')\n",
    "\n",
    "train_list = np.zeros([943, 1682])\n",
    "test_list = np.zeros([943, 1682])\n",
    "\n",
    "for i in range(len(train.values)):\n",
    "    train_list[train.values[i][0] - 1][train.values[i][1] - 1] = train.values[i][2]\n",
    "\n",
    "for i in range(len(test.values)):\n",
    "    test_list[test.values[i][0] - 1][test.values[i][1] - 1] = test.values[i][2]"
   ]
  },
  {
   "cell_type": "code",
   "execution_count": null,
   "metadata": {},
   "outputs": [],
   "source": [
    "p,q=sgd(train_list,5,0.01,0.2,200)"
   ]
  },
  {
   "cell_type": "code",
   "execution_count": null,
   "metadata": {
    "collapsed": true
   },
   "outputs": [],
   "source": [
    "a=[]\n",
    "t=0\n",
    "user=100\n",
    "num=0\n",
    "for i in train_list[user]:\n",
    "    if i != 0:\n",
    "        a.append(num)\n",
    "for i in prediction(train_list,p,q,user):\n",
    "    if i[0] in a:\n",
    "        t+=1\n",
    "print(t/50)"
   ]
  },
  {
   "cell_type": "code",
   "execution_count": null,
   "metadata": {
    "collapsed": true
   },
   "outputs": [],
   "source": []
  }
 ],
 "metadata": {
  "kernelspec": {
   "display_name": "Python 3",
   "language": "python",
   "name": "python3"
  },
  "language_info": {
   "codemirror_mode": {
    "name": "ipython",
    "version": 3
   },
   "file_extension": ".py",
   "mimetype": "text/x-python",
   "name": "python",
   "nbconvert_exporter": "python",
   "pygments_lexer": "ipython3",
   "version": "3.6.4"
  }
 },
 "nbformat": 4,
 "nbformat_minor": 2
}
